{
  "nbformat": 4,
  "nbformat_minor": 0,
  "metadata": {
    "colab": {
      "name": "BMI Calculator.ipynb",
      "provenance": []
    },
    "kernelspec": {
      "name": "python3",
      "display_name": "Python 3"
    },
    "language_info": {
      "name": "python"
    }
  },
  "cells": [
    {
      "cell_type": "code",
      "execution_count": 18,
      "metadata": {
        "colab": {
          "base_uri": "https://localhost:8080/"
        },
        "id": "XR6oYuJWDQsj",
        "outputId": "4e581986-293e-49f4-cf7d-5e89386b1229"
      },
      "outputs": [
        {
          "output_type": "stream",
          "name": "stdout",
          "text": [
            "Please enter your weight in kgs: 60\n",
            "Please enter your height in cms: 161\n",
            "your BMI is  23.15\n",
            "You are Healthy\n"
          ]
        }
      ],
      "source": [
        "weight = float(input(\"Please enter your weight in kgs: \"))\n",
        "height = float(input(\"Please enter your height in cms: \"))\n",
        "\n",
        "heights = height/100\n",
        "\n",
        "BMI = weight/(heights*heights)\n",
        "\n",
        "print(\"your BMI is \", round(BMI, 2))\n",
        "\n",
        "if BMI > 0:\n",
        "  if BMI < 16.0:\n",
        "    print(\"You are severely underweight\")\n",
        "  elif (BMI <= 16.9):\n",
        "    print(\"You are moderately underweight\")\n",
        "  elif (BMI <= 18.4):\n",
        "    print(\"You are mild underweight\")\n",
        "  elif (BMI <= 24.9):\n",
        "    print(\"You are Healthy\")\n",
        "  elif (BMI <= 29.9):\n",
        "    print(\"You are overweight\")\n",
        "  elif (BMI <= 34.9):\n",
        "    print(\"You are in obese Class 1\")\n",
        "  elif (BMI <= 39.9):\n",
        "    print(\"You are in obese Class 2\")\n",
        "  elif (BMI > 40 ):\n",
        "    print(\"You are in obese Class 3\")\n",
        "else:\n",
        "  print(\"Enter Valid Details\")"
      ]
    }
  ]
}